{
 "cells": [
  {
   "cell_type": "code",
   "execution_count": 1,
   "id": "5b4754ac",
   "metadata": {},
   "outputs": [],
   "source": [
    "import boto3"
   ]
  },
  {
   "cell_type": "code",
   "execution_count": 2,
   "id": "1363ae72",
   "metadata": {},
   "outputs": [],
   "source": [
    "client = boto3.client(\"s3\")"
   ]
  },
  {
   "cell_type": "code",
   "execution_count": 11,
   "id": "b1e0e967",
   "metadata": {},
   "outputs": [],
   "source": [
    "response = client.create_bucket(\n",
    "    Bucket='craidors512',\n",
    "    CreateBucketConfiguration={\n",
    "        'LocationConstraint': 'ap-south-1'\n",
    "    },\n",
    "    ObjectLockEnabledForBucket=True\n",
    ")"
   ]
  },
  {
   "cell_type": "code",
   "execution_count": 13,
   "id": "78c71953",
   "metadata": {},
   "outputs": [
    {
     "data": {
      "text/plain": [
       "{'ResponseMetadata': {'RequestId': 'VHCXZ7AP5R5NGTXF',\n",
       "  'HostId': 'DxaTrxiE7iBPzquOC5/x5LPrOtspAL3s4Hy4DwZUJWQxvaemyG7i+ov+obD0y2bkffaIPu8Yk8OyfDyciyibPA==',\n",
       "  'HTTPStatusCode': 200,\n",
       "  'HTTPHeaders': {'x-amz-id-2': 'DxaTrxiE7iBPzquOC5/x5LPrOtspAL3s4Hy4DwZUJWQxvaemyG7i+ov+obD0y2bkffaIPu8Yk8OyfDyciyibPA==',\n",
       "   'x-amz-request-id': 'VHCXZ7AP5R5NGTXF',\n",
       "   'date': 'Thu, 29 Jun 2023 14:24:29 GMT',\n",
       "   'location': 'http://craidors512.s3.amazonaws.com/',\n",
       "   'server': 'AmazonS3',\n",
       "   'content-length': '0'},\n",
       "  'RetryAttempts': 0},\n",
       " 'Location': 'http://craidors512.s3.amazonaws.com/'}"
      ]
     },
     "execution_count": 13,
     "metadata": {},
     "output_type": "execute_result"
    }
   ],
   "source": [
    "response"
   ]
  },
  {
   "cell_type": "code",
   "execution_count": 18,
   "id": "e3dc2ecc",
   "metadata": {},
   "outputs": [],
   "source": [
    "upload = client.upload_file(\n",
    "    \"tree-736885_1280.jpg\",\n",
    "    \"craidors512\",\n",
    "    \"tree\"\n",
    ")"
   ]
  },
  {
   "cell_type": "markdown",
   "id": "400a9725",
   "metadata": {},
   "source": [
    "CLI Commands ->\n",
    "1. aws s3api create-bucket --bucket craidors512 --create-bucket-configuration LocationConstraint=ap-south-1 --object-lock-enabled-for-bucket\n",
    "2. "
   ]
  }
 ],
 "metadata": {
  "kernelspec": {
   "display_name": "Python 3 (ipykernel)",
   "language": "python",
   "name": "python3"
  },
  "language_info": {
   "codemirror_mode": {
    "name": "ipython",
    "version": 3
   },
   "file_extension": ".py",
   "mimetype": "text/x-python",
   "name": "python",
   "nbconvert_exporter": "python",
   "pygments_lexer": "ipython3",
   "version": "3.10.9"
  }
 },
 "nbformat": 4,
 "nbformat_minor": 5
}
